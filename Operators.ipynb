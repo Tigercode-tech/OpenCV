{
 "cells": [
  {
   "cell_type": "code",
   "execution_count": null,
   "id": "c528d921",
   "metadata": {},
   "outputs": [
    {
     "name": "stdout",
     "output_type": "stream",
     "text": [
      "2048\n",
      "10\n",
      "1\n",
      "5\n",
      "0.49000000000000005\n",
      "2\n",
      "0.996825396825397\n"
     ]
    }
   ],
   "source": [
    "print(2**11)\n",
    "print(2+8)\n",
    "print(98076754785673927597%2)\n",
    "print(8-3)\n",
    "print(7*0.07)\n",
    "print(7//3)\n",
    "print(3.14/3.15)\n"
   ]
  },
  {
   "cell_type": "code",
   "execution_count": 24,
   "id": "d0ddd2cf",
   "metadata": {},
   "outputs": [
    {
     "name": "stdout",
     "output_type": "stream",
     "text": [
      "Hello world\n",
      "Hello world Hello world \n"
     ]
    }
   ],
   "source": [
    "print('Hello'+' world')\n",
    "print('Hello world '*2)"
   ]
  },
  {
   "cell_type": "code",
   "execution_count": 26,
   "id": "6bc80954",
   "metadata": {},
   "outputs": [
    {
     "name": "stdout",
     "output_type": "stream",
     "text": [
      "True\n",
      "False\n",
      "False\n"
     ]
    }
   ],
   "source": [
    "print(5<8)\n",
    "print(8<8.000000000000000000000000000000000000000000000000000000000000000000000000000000000000000000000001)\n",
    "print(8<8)"
   ]
  },
  {
   "cell_type": "code",
   "execution_count": null,
   "id": "83a038bb",
   "metadata": {},
   "outputs": [
    {
     "name": "stdout",
     "output_type": "stream",
     "text": [
      "False\n",
      "True\n",
      "False\n",
      "False\n"
     ]
    }
   ],
   "source": [
    "print(5>3 and 5>6)\n",
    "print(5>3 and 5<6)\n",
    "print(5<3 and 5>6)\n",
    "print(5>9 and 5>8)"
   ]
  }
 ],
 "metadata": {
  "kernelspec": {
   "display_name": "Python 3",
   "language": "python",
   "name": "python3"
  },
  "language_info": {
   "codemirror_mode": {
    "name": "ipython",
    "version": 3
   },
   "file_extension": ".py",
   "mimetype": "text/x-python",
   "name": "python",
   "nbconvert_exporter": "python",
   "pygments_lexer": "ipython3",
   "version": "3.11.9"
  }
 },
 "nbformat": 4,
 "nbformat_minor": 5
}

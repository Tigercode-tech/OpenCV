{
 "cells": [
  {
   "cell_type": "code",
   "execution_count": 1,
   "id": "5b72b52f",
   "metadata": {},
   "outputs": [],
   "source": [
    "import cv2\n",
    "import os"
   ]
  },
  {
   "cell_type": "code",
   "execution_count": 2,
   "id": "c23bf228",
   "metadata": {},
   "outputs": [],
   "source": [
    "# Here we are loading and reading a colored image\n",
    "\n",
    "img1 = cv2.imread('C:/Users/prave/OneDrive - OMO Scholengroep Helmond/Desktop/Jetlearn/OpenCV/images/scenery.jpeg', cv2.IMREAD_COLOR)\n",
    "cv2.imshow(\"Scenery Color Image\", img1)\n",
    "cv2.waitKey(0)\n",
    "cv2.destroyAllWindows()"
   ]
  },
  {
   "cell_type": "code",
   "execution_count": 3,
   "id": "4314a58a",
   "metadata": {},
   "outputs": [],
   "source": [
    "# Here we are transforming an image from color to grayscale where 0 indicates grayscale and 1 indicates color\n",
    "\n",
    "img2 = cv2.imread('C:/Users/prave/OneDrive - OMO Scholengroep Helmond/Desktop/Jetlearn/OpenCV/images/scenery.jpeg', 0)\n",
    "cv2.imshow(\"Scenery Image\", img2)\n",
    "cv2.waitKey(0)\n",
    "cv2.destroyAllWindows()"
   ]
  },
  {
   "cell_type": "code",
   "execution_count": null,
   "id": "64f2d524",
   "metadata": {},
   "outputs": [
    {
     "name": "stdout",
     "output_type": "stream",
     "text": [
      "sucsessfully saved\n"
     ]
    },
    {
     "ename": "",
     "evalue": "",
     "output_type": "error",
     "traceback": [
      "\u001b[1;31mThe Kernel crashed while executing code in the current cell or a previous cell. \n",
      "\u001b[1;31mPlease review the code in the cell(s) to identify a possible cause of the failure. \n",
      "\u001b[1;31mClick <a href='https://aka.ms/vscodeJupyterKernelCrash'>here</a> for more info. \n",
      "\u001b[1;31mView Jupyter <a href='command:jupyter.viewOutput'>log</a> for further details."
     ]
    }
   ],
   "source": [
    "#saving an image using opencv\n",
    "img3 = cv2.imread('C:/Users/prave/OneDrive - OMO Scholengroep Helmond/Desktop/Jetlearn/OpenCV/images/subway_surfer.png', 0)\n",
    "\n",
    "saved_directory = \"C:/Users/prave/OneDrive - OMO Scholengroep Helmond/Desktop/Jetlearn/OpenCV\"\n",
    "cv2.imshow('subway surfers in black and white', img3)\n",
    "\n",
    "cv2.waitKey(0)\n",
    "cv2.destroyAllWindows()\n",
    "\n",
    "os.chdir(saved_directory)\n",
    "cv2.imwrite(\"subway_new.png\", img3)\n",
    "print(\"sucsessfully saved\")\n",
    "\n",
    "\n",
    "\n"
   ]
  },
  {
   "cell_type": "code",
   "execution_count": null,
   "id": "3a574ff5",
   "metadata": {},
   "outputs": [],
   "source": []
  },
  {
   "cell_type": "code",
   "execution_count": null,
   "id": "a180fa92",
   "metadata": {},
   "outputs": [],
   "source": []
  }
 ],
 "metadata": {
  "kernelspec": {
   "display_name": "Python 3",
   "language": "python",
   "name": "python3"
  },
  "language_info": {
   "codemirror_mode": {
    "name": "ipython",
    "version": 3
   },
   "file_extension": ".py",
   "mimetype": "text/x-python",
   "name": "python",
   "nbconvert_exporter": "python",
   "pygments_lexer": "ipython3",
   "version": "3.12.2"
  }
 },
 "nbformat": 4,
 "nbformat_minor": 5
}

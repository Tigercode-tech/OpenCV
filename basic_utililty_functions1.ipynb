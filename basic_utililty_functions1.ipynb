{
 "cells": [
  {
   "cell_type": "code",
   "execution_count": 1,
   "id": "1fdfd917",
   "metadata": {},
   "outputs": [],
   "source": [
    "import numpy as np\n",
    "import cv2\n",
    "\n",
    "#!pip install numpy"
   ]
  },
  {
   "cell_type": "code",
   "execution_count": null,
   "id": "2c953c3e",
   "metadata": {},
   "outputs": [],
   "source": [
    "img1 = cv2.imread(\"C:/Users/prave/OneDrive - OMO Scholengroep Helmond/Desktop/Jetlearn/OpenCV/images/water_bg.jpg\", 1)\n",
    "img2 = cv2.imread(\"C:/Users/prave/OneDrive - OMO Scholengroep Helmond/Desktop/Jetlearn/OpenCV/images/B_W.png\", 1)\n",
    "img3 = cv2.imread(\"C:/Users/prave/OneDrive - OMO Scholengroep Helmond/Desktop/Jetlearn/OpenCV/images/blue_sky_bg.png\", 1)\n",
    "\n",
    "weight_sum = cv2.addWeighted(img1, 0.2, img2, 0.5, img3, 1, 0)\n",
    "cv2.imshow(\"display image\", weight_sum)\n",
    "\n",
    "cv2.waitKey(0)\n",
    "cv2.destroyAllWindows()"
   ]
  },
  {
   "cell_type": "code",
   "execution_count": 19,
   "id": "c859c40f",
   "metadata": {},
   "outputs": [],
   "source": [
    "#resize image\n",
    "img1resize = cv2.imread(\"C:/Users/prave/OneDrive - OMO Scholengroep Helmond/Desktop/Jetlearn/OpenCV/images/water_bg.jpg\", 1)\n",
    "cv2.imshow(\"original image\", img1resize)\n",
    "\n",
    "resized = cv2.resize(img1resize, (250, 250))\n",
    "cv2.imshow(\"resized image\", resized)\n",
    "\n",
    "cv2.waitKey(0)\n",
    "cv2.destroyAllWindows()"
   ]
  },
  {
   "cell_type": "code",
   "execution_count": null,
   "id": "6bc37891",
   "metadata": {},
   "outputs": [],
   "source": [
    "#blurring of an image\n",
    "#there are 3 kinds of blur: gaussian blur, median blur, bilatereal blur "
   ]
  },
  {
   "cell_type": "code",
   "execution_count": 3,
   "id": "1b38439e",
   "metadata": {},
   "outputs": [],
   "source": [
    "#gaussian blur - this is mostly used in machine learning pre-processing steps\n",
    "blur_1 =  cv2.imread(\"C:/Users/prave/OneDrive - OMO Scholengroep Helmond/Desktop/Jetlearn/OpenCV/images/scenery.jpeg\", 1)\n",
    "cv2.imshow(\"Original Image\", blur_1)\n",
    "\n",
    "img_gaussian = cv2.GaussianBlur(blur_1, (7, 7), 0)\n",
    "cv2.imshow(\"Gaussian Blur\", img_gaussian)\n",
    "\n",
    "cv2.waitKey(0)\n",
    "cv2.destroyAllWindows()"
   ]
  },
  {
   "cell_type": "code",
   "execution_count": 6,
   "id": "791a237d",
   "metadata": {},
   "outputs": [],
   "source": [
    "#median blur - this is used in digital processing. it preserves the edges and removes noise\n",
    "blur_2 =  cv2.imread(\"C:/Users/prave/OneDrive - OMO Scholengroep Helmond/Desktop/Jetlearn/OpenCV/images/water_bg.jpg\", 1)\n",
    "cv2.imshow(\"Original Image\", blur_2)\n",
    "\n",
    "img_median = cv2.medianBlur(blur_2, 5)\n",
    "cv2.imshow(\"median Blur\", img_median)\n",
    "\n",
    "cv2.waitKey(0)\n",
    "cv2.destroyAllWindows()"
   ]
  },
  {
   "cell_type": "code",
   "execution_count": 7,
   "id": "58540c72",
   "metadata": {},
   "outputs": [],
   "source": [
    "#bilateral blur - only sharp edges are preserved here\n",
    "blur_3 =  cv2.imread(\"C:/Users/prave/OneDrive - OMO Scholengroep Helmond/Desktop/Jetlearn/OpenCV/images/water_bg.jpg\", 1)\n",
    "cv2.imshow(\"Original Image\", blur_3)\n",
    "\n",
    "img_bilateral = cv2.bilateralFilter(blur_3, 9, 75, 45)\n",
    "cv2.imshow(\"Bilateral Blur\", img_bilateral)\n",
    "\n",
    "cv2.waitKey(0)\n",
    "cv2.destroyAllWindows()"
   ]
  },
  {
   "cell_type": "code",
   "execution_count": 9,
   "id": "05347c8b",
   "metadata": {},
   "outputs": [],
   "source": [
    "# bordering an image\n",
    "border = cv2.imread(\"C:/Users/prave/OneDrive - OMO Scholengroep Helmond/Desktop/Jetlearn/OpenCV/images/blackandwhite.jpeg\", 1)\n",
    "bordered_image = cv2.copyMakeBorder(border, 50, 50, 50, 50, cv2.BORDER_CONSTANT, value = 1)\n",
    "cv2.imshow(\"original image\", bordered_image)\n",
    "\n",
    "cv2.waitKey(0)\n",
    "cv2.destroyAllWindows()"
   ]
  },
  {
   "cell_type": "code",
   "execution_count": 2,
   "id": "486db530",
   "metadata": {},
   "outputs": [],
   "source": [
    "# reflective border around an image\n",
    "\n",
    "img3 = cv2.imread(\"C:/Users/prave/OneDrive - OMO Scholengroep Helmond/Desktop/Jetlearn/OpenCV/images/blue_sky_bg.png\", 1)\n",
    "bordered_image = cv2.copyMakeBorder(img3, 200, 200, 200, 200, cv2.BORDER_REFLECT, value = 1)\n",
    "cv2.imshow(\"original image\", bordered_image)\n",
    "\n",
    "cv2.waitKey(0)\n",
    "cv2.destroyAllWindows()"
   ]
  },
  {
   "cell_type": "code",
   "execution_count": null,
   "id": "b5eb0cf3",
   "metadata": {},
   "outputs": [],
   "source": []
  },
  {
   "cell_type": "code",
   "execution_count": null,
   "id": "6c5bd8ac",
   "metadata": {},
   "outputs": [],
   "source": []
  },
  {
   "cell_type": "code",
   "execution_count": null,
   "id": "a48cce99",
   "metadata": {},
   "outputs": [],
   "source": []
  },
  {
   "cell_type": "code",
   "execution_count": null,
   "id": "3d642d4e",
   "metadata": {},
   "outputs": [],
   "source": []
  },
  {
   "cell_type": "code",
   "execution_count": null,
   "id": "298617ce",
   "metadata": {},
   "outputs": [],
   "source": []
  }
 ],
 "metadata": {
  "kernelspec": {
   "display_name": "Python 3",
   "language": "python",
   "name": "python3"
  },
  "language_info": {
   "codemirror_mode": {
    "name": "ipython",
    "version": 3
   },
   "file_extension": ".py",
   "mimetype": "text/x-python",
   "name": "python",
   "nbconvert_exporter": "python",
   "pygments_lexer": "ipython3",
   "version": "3.12.2"
  }
 },
 "nbformat": 4,
 "nbformat_minor": 5
}

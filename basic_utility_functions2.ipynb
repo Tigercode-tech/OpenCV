{
 "cells": [
  {
   "cell_type": "code",
   "execution_count": 1,
   "id": "95a95c78",
   "metadata": {},
   "outputs": [],
   "source": [
    "import cv2\n",
    "import numpy as np"
   ]
  },
  {
   "cell_type": "code",
   "execution_count": null,
   "id": "7ee6662a",
   "metadata": {},
   "outputs": [],
   "source": [
    "#grayscaling of color image\n",
    "img1 = cv2.imread(\"C:/Users/prave/OneDrive - OMO Scholengroep Helmond/Desktop/Jetlearn/OpenCV/images/blue_sky_bg.png\")\n",
    "cv2.imshow('Original Image', img1)\n",
    "\n",
    "#cvtColor function is going to greyscale the image\n",
    "grey_img = cv2.cvtColor(img1, cv2.COLOR_BGR2GRAY)\n",
    "cv2.imshow('Grayscale Image', grey_img)\n",
    "cv2.waitKey(0)\n",
    "cv2.destroyAllWindows()"
   ]
  },
  {
   "cell_type": "code",
   "execution_count": 3,
   "id": "e0392855",
   "metadata": {},
   "outputs": [],
   "source": [
    "#grayscaling of image using average pixels method\n",
    "img2 = cv2.imread(\"C:/Users/prave/OneDrive - OMO Scholengroep Helmond/Desktop/Jetlearn/OpenCV/images/scenery.jpeg\")\n",
    "cv2.imshow('Original Image', img2)\n",
    "\n",
    "(row, col) = img2.shape[0:2]\n",
    "for i in range(row):\n",
    "    for j in range(col):\n",
    "        #find the average of BGR values\n",
    "        img2[i, j] = sum(img2[i, j]) * 0.33\n",
    "\n",
    "cv2.imshow(\"Grayscale image\", img2)\n",
    "cv2.waitKey(0)\n",
    "cv2.destroyAllWindows()"
   ]
  },
  {
   "cell_type": "code",
   "execution_count": 4,
   "id": "73eb773c",
   "metadata": {},
   "outputs": [
    {
     "data": {
      "text/plain": [
       "True"
      ]
     },
     "execution_count": 4,
     "metadata": {},
     "output_type": "execute_result"
    }
   ],
   "source": [
    "#rotating an image\n",
    "img3 = cv2.imread(\"C:/Users/prave/OneDrive - OMO Scholengroep Helmond/Desktop/Jetlearn/OpenCV/images/scenery.jpeg\")\n",
    "\n",
    "(row, col) = img2.shape[0:2]\n",
    "#get rotation matrix 2d for transformatian\n",
    "m = cv2.getRotationMatrix2D((col/2, row/2), 180, 1)\n",
    "res = cv2.warpAffine(img3, m, (col, row))\n",
    "cv2.imwrite('result.jpg', res)"
   ]
  },
  {
   "cell_type": "code",
   "execution_count": 5,
   "id": "d53abb53",
   "metadata": {},
   "outputs": [
    {
     "data": {
      "text/plain": [
       "True"
      ]
     },
     "execution_count": 5,
     "metadata": {},
     "output_type": "execute_result"
    }
   ],
   "source": [
    "#edge detection in an image\n",
    "img4 = cv2.imread(\"C:/Users/prave/OneDrive - OMO Scholengroep Helmond/Desktop/Jetlearn/OpenCV/images/scenery.jpeg\")\n",
    "edges = cv2.Canny(img4, 100, 200)\n",
    "cv2.imwrite('edges.jpg', edges)"
   ]
  }
 ],
 "metadata": {
  "kernelspec": {
   "display_name": "Python 3",
   "language": "python",
   "name": "python3"
  },
  "language_info": {
   "codemirror_mode": {
    "name": "ipython",
    "version": 3
   },
   "file_extension": ".py",
   "mimetype": "text/x-python",
   "name": "python",
   "nbconvert_exporter": "python",
   "pygments_lexer": "ipython3",
   "version": "3.12.2"
  }
 },
 "nbformat": 4,
 "nbformat_minor": 5
}
